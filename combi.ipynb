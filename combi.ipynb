{
  "nbformat": 4,
  "nbformat_minor": 0,
  "metadata": {
    "colab": {
      "name": "combi.ipynb",
      "version": "0.3.2",
      "provenance": [],
      "include_colab_link": true
    },
    "kernelspec": {
      "name": "python3",
      "display_name": "Python 3"
    }
  },
  "cells": [
    {
      "cell_type": "markdown",
      "metadata": {
        "id": "view-in-github",
        "colab_type": "text"
      },
      "source": [
        "<a href=\"https://colab.research.google.com/github/yildirimyy/permutation-combination/blob/master/combi.ipynb\" target=\"_parent\"><img src=\"https://colab.research.google.com/assets/colab-badge.svg\" alt=\"Open In Colab\"/></a>"
      ]
    },
    {
      "metadata": {
        "id": "dCAwd-KcJtsu",
        "colab_type": "code",
        "colab": {
          "base_uri": "https://localhost:8080/",
          "height": 86
        },
        "outputId": "f258fd5d-8ae4-48b5-c627-223c7f54efee"
      },
      "cell_type": "code",
      "source": [
        "def combinations(list_item, n, com_list=[]):\n",
        "    # recursive cagirimda n'li seviyeye geldiysen dur\n",
        "    if len(list_item) == n:\n",
        "        # eger daha once boyle bir combinasyon bulunduysa ekleme\n",
        "        # ornek: abcb icin iki kere bb bb gelir\n",
        "        if not list_item in com_list:\n",
        "            # bc yoksa combinasyon listesine ekle\n",
        "            com_list.append(list_item)\n",
        "            com_list.sort()\n",
        "\n",
        "        # n elamanli derinlikte oldugun icin don\n",
        "        return com_list\n",
        "    else:\n",
        "        # recursive olarak alt elemanlari bulmak icin\n",
        "        # alt listeler ile cagirim yap\n",
        "        for i in range(len(list_item)):\n",
        "            sub_list = list_item[:i] + list_item[i+1:]\n",
        "            com_list = combinations(sub_list, n, com_list)\n",
        "    return com_list\n",
        "\n",
        "print(combinations(\"123\", 2, []))\n",
        "print(\"\\t\")\n",
        "print(combinations(\"abcb\", 2, []))\n",
        "print(\"\\t\")"
      ],
      "execution_count": 1,
      "outputs": [
        {
          "output_type": "stream",
          "text": [
            "['12', '13', '23']\n",
            "\t\n",
            "['ab', 'ac', 'bb', 'bc', 'cb']\n",
            "\t\n"
          ],
          "name": "stdout"
        }
      ]
    }
  ]
}